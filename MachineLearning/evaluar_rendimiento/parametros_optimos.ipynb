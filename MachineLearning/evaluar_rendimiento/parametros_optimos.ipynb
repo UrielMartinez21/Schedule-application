{
 "cells": [
  {
   "cell_type": "markdown",
   "metadata": {},
   "source": [
    "## Bibliotecas"
   ]
  },
  {
   "cell_type": "code",
   "execution_count": 2,
   "metadata": {},
   "outputs": [],
   "source": [
    "import pandas as pd\n",
    "\n",
    "from sklearn.model_selection import StratifiedKFold\n",
    "from sklearn.naive_bayes import GaussianNB\n",
    "from sklearn.model_selection import GridSearchCV\n",
    "from sklearn.model_selection import train_test_split"
   ]
  },
  {
   "cell_type": "markdown",
   "metadata": {},
   "source": [
    "## Leer dataset"
   ]
  },
  {
   "cell_type": "code",
   "execution_count": 3,
   "metadata": {},
   "outputs": [
    {
     "data": {
      "text/html": [
       "<div>\n",
       "<style scoped>\n",
       "    .dataframe tbody tr th:only-of-type {\n",
       "        vertical-align: middle;\n",
       "    }\n",
       "\n",
       "    .dataframe tbody tr th {\n",
       "        vertical-align: top;\n",
       "    }\n",
       "\n",
       "    .dataframe thead th {\n",
       "        text-align: right;\n",
       "    }\n",
       "</style>\n",
       "<table border=\"1\" class=\"dataframe\">\n",
       "  <thead>\n",
       "    <tr style=\"text-align: right;\">\n",
       "      <th></th>\n",
       "      <th>Nombre</th>\n",
       "      <th>Puntuación</th>\n",
       "      <th>Dificultad</th>\n",
       "      <th>Categoria numerica</th>\n",
       "      <th>Categoria</th>\n",
       "    </tr>\n",
       "  </thead>\n",
       "  <tbody>\n",
       "    <tr>\n",
       "      <th>0</th>\n",
       "      <td></td>\n",
       "      <td>0.0</td>\n",
       "      <td>10.0</td>\n",
       "      <td>2</td>\n",
       "      <td>Malo</td>\n",
       "    </tr>\n",
       "    <tr>\n",
       "      <th>1</th>\n",
       "      <td>Aunque Me Borren Seguiré *A Todos Los Pseudoal...</td>\n",
       "      <td>3.8</td>\n",
       "      <td>5.8</td>\n",
       "      <td>0</td>\n",
       "      <td>Regular</td>\n",
       "    </tr>\n",
       "    <tr>\n",
       "      <th>2</th>\n",
       "      <td>Fanny Adan Sosa</td>\n",
       "      <td>8.5</td>\n",
       "      <td>1.9</td>\n",
       "      <td>3</td>\n",
       "      <td>Excelente</td>\n",
       "    </tr>\n",
       "    <tr>\n",
       "      <th>3</th>\n",
       "      <td>Rafael Aguilar García</td>\n",
       "      <td>7.7</td>\n",
       "      <td>2.4</td>\n",
       "      <td>1</td>\n",
       "      <td>Bueno</td>\n",
       "    </tr>\n",
       "    <tr>\n",
       "      <th>4</th>\n",
       "      <td>Fernando Aguilar Sanchez</td>\n",
       "      <td>8.4</td>\n",
       "      <td>1.9</td>\n",
       "      <td>3</td>\n",
       "      <td>Excelente</td>\n",
       "    </tr>\n",
       "  </tbody>\n",
       "</table>\n",
       "</div>"
      ],
      "text/plain": [
       "                                              Nombre  Puntuación  Dificultad   \n",
       "0                                                            0.0        10.0  \\\n",
       "1  Aunque Me Borren Seguiré *A Todos Los Pseudoal...         3.8         5.8   \n",
       "2                                    Fanny Adan Sosa         8.5         1.9   \n",
       "3                              Rafael Aguilar García         7.7         2.4   \n",
       "4                           Fernando Aguilar Sanchez         8.4         1.9   \n",
       "\n",
       "   Categoria numerica  Categoria  \n",
       "0                   2       Malo  \n",
       "1                   0    Regular  \n",
       "2                   3  Excelente  \n",
       "3                   1      Bueno  \n",
       "4                   3  Excelente  "
      ]
     },
     "execution_count": 3,
     "metadata": {},
     "output_type": "execute_result"
    }
   ],
   "source": [
    "dataset = pd.read_csv('../datasets_creados/data_kmeans.csv')\n",
    "dataset.head()"
   ]
  },
  {
   "cell_type": "markdown",
   "metadata": {},
   "source": [
    "## Dividir rasgos y clases"
   ]
  },
  {
   "cell_type": "code",
   "execution_count": 4,
   "metadata": {},
   "outputs": [],
   "source": [
    "x = dataset.iloc[:, [1,2]].values\n",
    "y = dataset.iloc[:, 3].values"
   ]
  },
  {
   "cell_type": "markdown",
   "metadata": {},
   "source": [
    "## Dividir prueba y entrenamiento"
   ]
  },
  {
   "cell_type": "code",
   "execution_count": 5,
   "metadata": {},
   "outputs": [],
   "source": [
    "x_train, x_test, y_train, y_test = train_test_split(x, y, test_size=0.20, random_state=0)"
   ]
  },
  {
   "cell_type": "markdown",
   "metadata": {},
   "source": [
    "## Busqueda de parámetros optimizados"
   ]
  },
  {
   "cell_type": "code",
   "execution_count": 6,
   "metadata": {},
   "outputs": [],
   "source": [
    "# --> Validacion cruzada\n",
    "skf = StratifiedKFold(n_splits=10, shuffle=True, random_state=0)\n",
    "\n",
    "# --> Parametros a evaluar\n",
    "parametros = [\n",
    "    {'var_smoothing': [1e-9, 1e-8, 1e-7, 1e-6, 1e-5]},\n",
    "    {'var_smoothing': [1e-10, 1e-11, 1e-12, 1e-13, 1e-14]}\n",
    "]\n",
    "\n",
    "# --> Crear objeto de busqueda\n",
    "busqueda = GridSearchCV(\n",
    "    estimator=GaussianNB(),\n",
    "    param_grid=parametros,\n",
    "    scoring='accuracy',\n",
    "    cv=skf                       # Entero si esta balanceado el dataset\n",
    ")\n",
    "\n",
    "# --> Entrenar objeto de busqueda\n",
    "busqueda = busqueda.fit(x_train, y_train)\n"
   ]
  },
  {
   "cell_type": "markdown",
   "metadata": {},
   "source": [
    "## Resultados"
   ]
  },
  {
   "cell_type": "code",
   "execution_count": 7,
   "metadata": {},
   "outputs": [
    {
     "name": "stdout",
     "output_type": "stream",
     "text": [
      "[+]Mejor exactitud: 94.0374331550802 %\n",
      "[+]Mejores parametros: {'var_smoothing': 1e-09}\n"
     ]
    }
   ],
   "source": [
    "print(f\"[+]Mejor exactitud: {100*busqueda.best_score_} %\")\n",
    "print(f\"[+]Mejores parametros: {busqueda.best_params_}\")\n"
   ]
  },
  {
   "cell_type": "markdown",
   "metadata": {},
   "source": [
    "## Comprobación"
   ]
  },
  {
   "cell_type": "code",
   "execution_count": 8,
   "metadata": {},
   "outputs": [
    {
     "name": "stdout",
     "output_type": "stream",
     "text": [
      "Puntuación: 94.05%\n"
     ]
    }
   ],
   "source": [
    "classifier = GaussianNB(var_smoothing=1e-09)\n",
    "classifier.fit(x_train, y_train)\n",
    "\n",
    "print(f\"Puntuación: {round(100*(classifier.score(x_test, y_test)), 2)}%\")\n"
   ]
  }
 ],
 "metadata": {
  "kernelspec": {
   "display_name": "Python 3",
   "language": "python",
   "name": "python3"
  },
  "language_info": {
   "codemirror_mode": {
    "name": "ipython",
    "version": 3
   },
   "file_extension": ".py",
   "mimetype": "text/x-python",
   "name": "python",
   "nbconvert_exporter": "python",
   "pygments_lexer": "ipython3",
   "version": "3.11.3"
  },
  "orig_nbformat": 4
 },
 "nbformat": 4,
 "nbformat_minor": 2
}
